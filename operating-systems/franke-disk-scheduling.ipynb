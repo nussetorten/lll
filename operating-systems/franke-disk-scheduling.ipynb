{
 "cells": [
  {
   "cell_type": "markdown",
   "metadata": {},
   "source": [
    "# Disk Schedulers"
   ]
  },
  {
   "cell_type": "markdown",
   "metadata": {},
   "source": [
    "## Levels\n",
    "\n",
    "0: Registers (in CPU)\n",
    "\n",
    "1: Cache (sRAMS)\n",
    "\n",
    "2: Main memory (dRAMs)\n",
    "\n",
    "3: Disk storage (solid-state, magnetic)\n",
    "\n",
    "4: Tape Units (magnetic tapes, optical disks)"
   ]
  },
  {
   "cell_type": "markdown",
   "metadata": {},
   "source": [
    "## Hard Disk (Magnetic) Architecture"
   ]
  },
  {
   "cell_type": "markdown",
   "metadata": {},
   "source": [
    "- **Surface**: group of tracks\n",
    "- **Track**: group of sectors\n",
    "- **Sector**: group of bytes\n",
    "- **Cylinder**: set of tracks across all platters"
   ]
  },
  {
   "cell_type": "markdown",
   "metadata": {},
   "source": [
    "## Disk Performance"
   ]
  },
  {
   "cell_type": "markdown",
   "metadata": {},
   "source": [
    "Seek\n",
    "\n",
    "- Position Heads over cylinder, typically 5.3-8ms.\n",
    "\n",
    "Rotational Delay\n",
    "\n",
    "- Wait for a sector to rotate underneath the heads.\n",
    "- Typically 8.3 - 6.0 ms (7,200 - 10,000RPM) or $\\frac{1}{2}$ rotation takes 4.15 - 3 ms.\n",
    "\n",
    "Transfer Bytes\n",
    "\n",
    "- Average transfer bandwidth (15-37 MB/sec)\n",
    "\n",
    "Performance of transfer 1 KB\n",
    "\n",
    "- Seek (5.3 ms) + half rotational delay (3ms) + transfer (0.04ms)\n",
    "- Total time is 8.34ms or 120KB/s\n",
    "\n",
    "What block size can get 90% of the disk transfer bandwidth?"
   ]
  },
  {
   "cell_type": "markdown",
   "metadata": {},
   "source": [
    "## Disk Behaviors"
   ]
  },
  {
   "cell_type": "markdown",
   "metadata": {},
   "source": [
    "- Therre are more sectors on outer tracks than inner tracks\n",
    "  - Read outer tracks 37.4MB/sec\n",
    "  - Read inner tracks: 22MB/sec\n",
    "- Seek time and rotational latency dominate the cost of small reads\n",
    "  - A lot of disk transfer bandwidth is wasted\n",
    "  - Need algorithms to reduce seek time\n",
    "  \n",
    "In general, the larger the sector, the more time is spent reading data vs. traveling to it."
   ]
  },
  {
   "cell_type": "markdown",
   "metadata": {},
   "source": [
    "## Observations"
   ]
  },
  {
   "cell_type": "markdown",
   "metadata": {},
   "source": [
    "- Getting first byte from disk read is slow, high latency\n",
    "- Peak bandwidth high, but rarely achieved\n",
    "- Need to mitigate disk performance impact\n",
    "  - Do extra calculations to speed up disk access\n",
    "    - Schedule requests to shortern seeks\n",
    "  - Move some disk data into main memory (file"
   ]
  },
  {
   "cell_type": "markdown",
   "metadata": {},
   "source": [
    "## Disk Scheduling"
   ]
  },
  {
   "cell_type": "markdown",
   "metadata": {},
   "source": [
    "Which disk request is serviced first?\n",
    "\n",
    "- FCFS\n",
    "- Shortest seek time first\n",
    "- Elevator (SCAN)\n",
    "- LOOK\n",
    "- C-SCAN (Circular SCAN)\n",
    "- C-LOOK (Circular LOOK)\n",
    "\n",
    "... looks familiar?"
   ]
  },
  {
   "cell_type": "markdown",
   "metadata": {},
   "source": [
    "### FIFO (FCFS) order\n",
    "\n",
    "- **Method**\n",
    "  - First come first serve\n",
    "- **Pros**\n",
    "  - Fairness among requests\n",
    "  - In the order applications expect\n",
    "- **Cons**\n",
    "  - Arrival may be on random sponts on the disk (long seeks)\n",
    "  - Wild swing can happen\n",
    "- **Analogy**\n",
    "  - Can elevator ?"
   ]
  },
  {
   "cell_type": "markdown",
   "metadata": {},
   "source": [
    "### SSTF (Shortest Seek Time First)\n",
    "\n",
    "- **Method**\n",
    "  - Pick the one closest on disk\n",
    "  - Rotational delay is in calculation\n",
    "- **Pros**\n",
    "  - Minimizes local seek time\n",
    "- **Cons**\n",
    "  - Starvation\n",
    "- **Question**\n",
    "  - Optimal?  Yes!\n",
    "  - Can we avoid starvation?  Yes, add aging cost.\n",
    "- **Analogy**\n",
    "  - Elevator"
   ]
  },
  {
   "cell_type": "markdown",
   "metadata": {},
   "source": [
    "### Elevator (SCAN)\n",
    "\n",
    "- **Method**\n",
    "  - Take the closest request in direction of travel\n",
    "  - Real implementations do not go to the end (called LOOK)\n",
    "- **Pros**\n",
    "  - Bounded time for each request\n",
    "- **Cons**\n",
    "  - Request at the other end will take a while"
   ]
  },
  {
   "cell_type": "markdown",
   "metadata": {},
   "source": [
    "### C-SCAN (Circular SCAN)\n",
    "\n",
    "- **Method**\n",
    "  - Like SCAN, but wrap around\n",
    "  - Real implementation doesn't go to the end (C-LOOK)\n",
    "- **Pros**\n",
    "  - Uniform service time\n",
    "- **Cons**\n",
    "  - Do nothing on the return"
   ]
  },
  {
   "cell_type": "markdown",
   "metadata": {},
   "source": [
    "### LOOK and C-LOOK (Circular LOOK)\n",
    "\n",
    "- Scan and C-SCAN move the ddisk arm across the full width of the disk.\n",
    "- In practice neither algorithm is implemented this way\n",
    "- More commonly arm goes only as far as the furthest request in that direction"
   ]
  },
  {
   "cell_type": "markdown",
   "metadata": {},
   "source": [
    "### FSCAN\n",
    "\n",
    "- **Method**\n",
    "  - Like scan, but operates using two queue (active and wait queues)\n",
    "  - While I/O is ongoing from one queue, enqueue new requests in wait queue\n",
    "  - When active queue empties, swap.\n",
    "- **Pros**\n",
    "  - More fairness\n",
    "- **Cons**\n",
    "  - Unnecessary disk movement"
   ]
  },
  {
   "cell_type": "markdown",
   "metadata": {},
   "source": [
    "## RAID (Redundant Array of Independent/Inexpensive Disks)"
   ]
  },
  {
   "cell_type": "markdown",
   "metadata": {},
   "source": [
    "- Use parallel processing to speed up CPU performance\n",
    "- Use parallel I/O to improve disk performance, reliability (1988, Patterson)\n",
    "- Design new class of I/O devices called RAID\n",
    "- Use RAID in OS as a SLED (Single Large Expensive Disk), but with better performance and reliabilitiy"
   ]
  },
  {
   "cell_type": "markdown",
   "metadata": {},
   "source": [
    "## Common Hard Drive Errors"
   ]
  },
  {
   "cell_type": "markdown",
   "metadata": {},
   "source": [
    "1. Programming error\n",
    "2. Transient checksum error\n",
    "3. Peranent checksum error\n",
    "4. Seek error\n",
    "5. Controller error\n",
    "  - Controller refuses to accept commands"
   ]
  },
  {
   "cell_type": "markdown",
   "metadata": {},
   "source": [
    "## Types of RAID"
   ]
  },
  {
   "cell_type": "markdown",
   "metadata": {},
   "source": [
    "https://en.wikipedia.org/wiki/Standard_RAID_levels"
   ]
  },
  {
   "cell_type": "markdown",
   "metadata": {},
   "source": [
    "## Solid State Disks and FLASH Memory"
   ]
  },
  {
   "cell_type": "markdown",
   "metadata": {},
   "source": [
    "Different characteristics than traditional devices, so things like C-SCAN aren't helpful here!\n",
    "\n",
    "- Made out of FLASH Memory\n",
    "- Geneology of FLASH\n",
    "  - RAM, EPROM, EEPROM\n",
    "    - RAM needs power\n",
    "    - EPROM needs no power but could be programmed only once\n",
    "    - EEPROM erased and programmed, maintain the programmed value without power\n",
    "    - ROM read only memory this term is used because although we could read any arbitrary location, entire 'block' needs to be erased\n",
    "  - Usage of EEPROMs\n",
    "    - Historically, programs for embedding processors [which needed to be programmed once in a while]\n",
    "\n",
    "..."
   ]
  },
  {
   "cell_type": "markdown",
   "metadata": {},
   "source": [
    "## Industry Trends"
   ]
  },
  {
   "cell_type": "markdown",
   "metadata": {},
   "source": [
    "- Increasing Performance (Read/Write)\n",
    "  - Array of FLASH memories to utilize the parallel bandwidth and reduce the latencies\n",
    "  - A cache (DDR RAM) in front of the array to further minimize latencies"
   ]
  }
 ],
 "metadata": {
  "kernelspec": {
   "display_name": "Python 2",
   "language": "python",
   "name": "python2"
  },
  "language_info": {
   "codemirror_mode": {
    "name": "ipython",
    "version": 2
   },
   "file_extension": ".py",
   "mimetype": "text/x-python",
   "name": "python",
   "nbconvert_exporter": "python",
   "pygments_lexer": "ipython2",
   "version": "2.7.13"
  }
 },
 "nbformat": 4,
 "nbformat_minor": 2
}

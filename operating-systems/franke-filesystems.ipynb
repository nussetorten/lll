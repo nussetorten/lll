{
 "cells": [
  {
   "cell_type": "markdown",
   "metadata": {},
   "source": [
    "# File Systems"
   ]
  },
  {
   "cell_type": "markdown",
   "metadata": {},
   "source": [
    "Information often has a longer lifetime than a program.  A program is a transient filter on data.  So we need a scheme for storing data in a long-term format."
   ]
  },
  {
   "cell_type": "markdown",
   "metadata": {},
   "source": [
    "## Shortcomings of Process Address Space"
   ]
  },
  {
   "cell_type": "markdown",
   "metadata": {},
   "source": [
    "- Virtual address space may not be enough storage for all information\n",
    "- Information is lost when process terminates, is killed, or computer crashes.\n",
    "- Multiple processes may need same data at same time"
   ]
  },
  {
   "cell_type": "markdown",
   "metadata": {},
   "source": [
    "## Requirements for Long-term Information Storage"
   ]
  },
  {
   "cell_type": "markdown",
   "metadata": {},
   "source": [
    "- Store very large amount of information\n",
    "- Information must survive termination\n",
    "- Concurrent access across processes"
   ]
  },
  {
   "cell_type": "markdown",
   "metadata": {},
   "source": [
    "## Files"
   ]
  },
  {
   "cell_type": "markdown",
   "metadata": {},
   "source": [
    "- Data collections created by users\n",
    "- FS is one of the most imporant parts of the OS\n",
    "- Desirable properties of files\n",
    "  - Files stored on disk or secondary storage, don't disappear when you log off\n",
    "  - files have names and access permissions\n",
    "  - Files can be organized into hierarchical complex structures\n",
    "  \n",
    "Definitions\n",
    "\n",
    "- Logical units of information created by processes\n",
    "- Used to model disks instead of RAM\n",
    "- Information is persistent\n",
    "- Managed by OS\n",
    "- The part of OS dealing with files is known as filesystem"
   ]
  },
  {
   "cell_type": "markdown",
   "metadata": {},
   "source": [
    "## File Structure"
   ]
  },
  {
   "cell_type": "markdown",
   "metadata": {},
   "source": [
    "Files used to have many constraints, like pre-determined size.  Increasing size of text document used to involve re-allocating the file with different size!\n",
    "\n",
    "### Terms\n",
    "\n",
    "- Field\n",
    "  - Element of data\n",
    "  - Contains single value\n",
    "- Record\n",
    "  - Collection of related fields\n",
    "  - Think a person in phonebook\n",
    "- File\n",
    "  - Collection of similar records\n",
    "  - may be referenced by name\n",
    "- Database\n",
    "  - Collection of related data\n",
    "  - One or more types of files\n",
    "  \n",
    "Field < Record < File < Database"
   ]
  },
  {
   "cell_type": "markdown",
   "metadata": {},
   "source": [
    "## Files from the User's point of view"
   ]
  },
  {
   "cell_type": "markdown",
   "metadata": {},
   "source": [
    "### Files\n",
    "\n",
    "- Naming\n",
    "- Structure\n",
    "- Types\n",
    "- Access\n",
    "- Attributes\n",
    "- Operations\n",
    "\n",
    "### Directories\n",
    "\n",
    "- Dingle-level\n",
    "- Hierarchical\n",
    "- Path names\n",
    "- Operations"
   ]
  },
  {
   "cell_type": "code",
   "execution_count": null,
   "metadata": {
    "collapsed": true
   },
   "outputs": [],
   "source": []
  }
 ],
 "metadata": {
  "kernelspec": {
   "display_name": "Python 2",
   "language": "python",
   "name": "python2"
  },
  "language_info": {
   "codemirror_mode": {
    "name": "ipython",
    "version": 2
   },
   "file_extension": ".py",
   "mimetype": "text/x-python",
   "name": "python",
   "nbconvert_exporter": "python",
   "pygments_lexer": "ipython2",
   "version": "2.7.13"
  }
 },
 "nbformat": 4,
 "nbformat_minor": 2
}

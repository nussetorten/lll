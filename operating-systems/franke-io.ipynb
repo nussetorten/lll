{
 "cells": [
  {
   "cell_type": "markdown",
   "metadata": {
    "deletable": true,
    "editable": true
   },
   "source": [
    "# I/O\n",
    "\n",
    "*Notes from lecture on April 10th, 2017*"
   ]
  },
  {
   "cell_type": "markdown",
   "metadata": {
    "deletable": true,
    "editable": true
   },
   "source": [
    "*Recall inter-subsystem architecture image*\n",
    "\n",
    "Not only do devices need to be managed, but the buses need to be managed as well."
   ]
  },
  {
   "cell_type": "markdown",
   "metadata": {
    "deletable": true,
    "editable": true
   },
   "source": [
    "## Direct Memory Access (DMA)"
   ]
  },
  {
   "cell_type": "markdown",
   "metadata": {
    "deletable": true,
    "editable": true
   },
   "source": [
    "- It is not efficient for the CPU to request data from I/O one byte as a time\n",
    "- Direct Memory Access (DMA) controller has accecss to the system bus independent of the CPU\n",
    "\n",
    "This is good!\n",
    "\n",
    "- CPU is freed to pursue other tasks.\n",
    "- I/O will interrupt when request completed.\n",
    "\n",
    "Typical interaction:\n",
    "\n",
    "1. OS owns bus\n",
    "1. OS programs DMA (ON dev FROM addr TO addr, ACTION)\n",
    "1. OS continues other processes\n",
    "1. DMA waits for bus free\n",
    "  1. DMA poll returns success\n",
    "  1. DMA copies some data to internal buffer\n",
    "  1. DMA relinquishes bus\n",
    "  1. Loop until transfer complete\n",
    "  1. Signal (interrupt)\n",
    "1. OS acquires bus\n",
    "1. OS copies data from DMA internal buffer\n",
    "\n",
    "The OS needs to acknowledge the interrupt for this to work.  There are some intricacies to this ..."
   ]
  },
  {
   "cell_type": "markdown",
   "metadata": {
    "deletable": true,
    "editable": true
   },
   "source": [
    "*Recall system bus image*"
   ]
  },
  {
   "cell_type": "markdown",
   "metadata": {
    "deletable": true,
    "editable": true
   },
   "source": [
    "## Precise Interrupts"
   ]
  },
  {
   "cell_type": "markdown",
   "metadata": {
    "deletable": true,
    "editable": true
   },
   "source": [
    "Modern hardware architectures execute many instructions concurrently.  Precise interrupts help synchronize events logically.  Things that need to happen area gauaranteed to have happened.  This makes handling interrupts much simpler.\n",
    "\n",
    "### Properties of Precise Interrupts:\n",
    "\n",
    "1. The program counter (PC) is saved in known place\n",
    "1. All instructions before the one pointed by PC have fully executed\n",
    "1. No instruction beyond the one pointed by PC have been executed\n",
    "1. The execution state of the instruction pointed to by the PC is known.\n",
    "\n",
    "> **Note**: this does not affect the scheduler."
   ]
  },
  {
   "cell_type": "markdown",
   "metadata": {
    "deletable": true,
    "editable": true
   },
   "source": [
    "## I/O Software"
   ]
  },
  {
   "cell_type": "markdown",
   "metadata": {
    "deletable": true,
    "editable": true
   },
   "source": [
    "I/O software gives us the following properties:\n",
    "\n",
    "- Device independence\n",
    "- Uniform naming\n",
    "- Error handling (better to handle errors closer to the source (device))\n",
    "- Synchronous vs asynchronous (interrupt-driven)\n",
    "- Buffering (lots of problems w/o buffering trigger heavy waiting (undesirable), think internet)\n",
    "- Sharable vs. dedicated devices (network/disk vs. screen)"
   ]
  },
  {
   "cell_type": "markdown",
   "metadata": {
    "deletable": true,
    "editable": true
   },
   "source": [
    "### Three Ways of Doing I/O"
   ]
  },
  {
   "cell_type": "markdown",
   "metadata": {
    "deletable": true,
    "editable": true
   },
   "source": [
    "#### Programmed I/O\n",
    "\n",
    "Here, CPU does all the work.  Think polling/busy-waiting scheme.  For example:\n",
    "\n",
    "    copy_from_user(buffer, dev, count) {\n",
    "        for(i = 0; i < count; ++i) {\n",
    "            while(dev.status.rag != READY);\n",
    "            copy(buffer[i] = dev.buffer);\n",
    "        }\n",
    "    }"
   ]
  },
  {
   "cell_type": "markdown",
   "metadata": {
    "deletable": true,
    "editable": true
   },
   "source": [
    "#### Interrupt-driven I/O\n",
    "\n",
    "Waiting for a device to be ready, the process is blocked and another process is scheduled.  When the device is ready it raises an interrupt."
   ]
  },
  {
   "cell_type": "markdown",
   "metadata": {
    "deletable": true,
    "editable": true
   },
   "source": [
    "#### Direct Memory Access (DMA)\n",
    "\n",
    "DMA does the work instead of the CPU.  The CPU lets the DMA do its work and then interrupt.\n",
    "\n",
    "> **Note**: DMA is, in fact, copying directly into DRAM.  Hence why it needs control of the bus during operation.\n",
    "> **Note**: DMA does not always write to the same memory.  The OS provides locked pages for DMA to use."
   ]
  },
  {
   "cell_type": "markdown",
   "metadata": {
    "deletable": true,
    "editable": true
   },
   "source": [
    "## DMA Alternative Configurations\n",
    "\n",
    "1. Single-bus, detached DMA\n",
    "1. Single-bus, Integrated DMA I/O\n",
    "1. Separate I/O bus"
   ]
  },
  {
   "cell_type": "markdown",
   "metadata": {
    "deletable": true,
    "editable": true
   },
   "source": [
    "## OS Software Layers for I/O"
   ]
  },
  {
   "cell_type": "markdown",
   "metadata": {
    "deletable": true,
    "editable": true
   },
   "source": [
    "- User-level I/O\n",
    "- Device-independent operating system software\n",
    "- Device drivers\n",
    "- Interrupt handlers\n",
    "- Hardware\n",
    "\n",
    "> **Recall**: There are block devices and character devices.  Block=disk; Char=internet,keyboard"
   ]
  },
  {
   "cell_type": "markdown",
   "metadata": {
    "deletable": true,
    "editable": true
   },
   "source": [
    "#### Device Drivers\n",
    "\n",
    "- Device specific code for controlling the device\n",
    "  - Read device registers from controller\n",
    "  - Write device registers to issue commands\n",
    "- Usually supplied by the device manufacturer\n",
    "- Can be part of the kernel or at user-space (with system calls to access controller registers)\n",
    "- OS defines a standard interface that drivers for block devices must follow and another standard for driver of character devices"
   ]
  },
  {
   "cell_type": "markdown",
   "metadata": {
    "deletable": true,
    "editable": true
   },
   "source": [
    "- Main functions:\n",
    "  - Receive abstract read/write from layer above and carry them out\n",
    "  - Initialize the device\n",
    "  - Log events\n",
    "- ... plugged (oops!)"
   ]
  },
  {
   "cell_type": "markdown",
   "metadata": {},
   "source": [
    "## Device Independent I/O Software"
   ]
  },
  {
   "cell_type": "markdown",
   "metadata": {},
   "source": [
    "Use uniformm interfacing for device drivers\n",
    "\n",
    "- Trying to make all devices look the same\n",
    "- For each class of devices, the OS defines a set of functions that the driver must supply.\n",
    "- This layer of OS maps symbolic device names onto proper drivers.\n",
    "\n",
    "> **Note**: You can `cd /dev` to see a list of devices.  The naming convention corresponds to the device type and how you should attempt to interface with them!"
   ]
  },
  {
   "cell_type": "markdown",
   "metadata": {},
   "source": [
    "## Device Intependent I/O Software"
   ]
  },
  {
   "cell_type": "markdown",
   "metadata": {},
   "source": [
    "*Refer to diagam expressing the need for buffering (modem example)*\n",
    "\n",
    "- Very inefficient"
   ]
  },
  {
   "cell_type": "markdown",
   "metadata": {},
   "source": [
    "## Device Example: Clocks"
   ]
  },
  {
   "cell_type": "markdown",
   "metadata": {},
   "source": [
    "### Hardware\n",
    "\n",
    "Clocks are devices?  Who knew!  They change frequency many times/second to compensate load (CPU governer).\n",
    "\n",
    "- Old style: tied to power line and causes interrupt on every voltage cycle\n",
    "- New style: crystal oscillator + counter + holding register.  Clock decrements register until 0, then triggers interrupt\n",
    "\n",
    "Typically a calibration period occurs, then interrupt signals passage of time (fixed interval, usually 4$\\mu$s\n",
    "\n",
    "> **Note**: This means there are usually 2 clocks, one constant and one variable.\n",
    "\n",
    "> **Note**: Interrupts are the means for clock to \"wake up\" processor.  Think keypress to wake PC.  Same exact mechanism!"
   ]
  },
  {
   "cell_type": "markdown",
   "metadata": {},
   "source": [
    "### Software\n",
    "\n",
    "- Maintaining the time of the day\n",
    "- Preventing processes from running longer than they are allowed to\n",
    "- Accounting for CPU usage\n",
    "- Handling alarm system call make by user prorcessis\n",
    "- Providing watchdog timers for parts of the system itself\n",
    "- Doing profiling, monitoring, and statistics gathering\n",
    "\n",
    "> **Note**: Watchdog timers are highly privileged, need to be to detect when PC is hung!"
   ]
  },
  {
   "cell_type": "markdown",
   "metadata": {},
   "source": [
    "## Device Example: Keyboards"
   ]
  },
  {
   "cell_type": "markdown",
   "metadata": {},
   "source": [
    "- Contains simplified embedded processor that communicaties through a port with the controller at the motherboard.\n",
    "- An interrupt is generated whenever a key is struck and a second one whenever a key is released.\n",
    "- Keyboard driver extracts the information about what happens from the I/O port assigned to the keyboard.\n",
    "- The number in the I/O port is called the scan code (7 bits for code + 1 bit for key press/release)\n",
    "\n",
    "### Two Philosophies\n",
    "\n",
    "1. Programs get a raw sequence of ASCII codes (raw mode, or noncanonical mode)\n",
    "2. Driver handles all the intraline editing and just delivers corrected lines to the use programs (cooked mode or canonical mode)\n",
    "\n",
    "> **Note**: Either way, a buffer is needed to store characters.\n",
    "> **Note**: Keyboard buffer used to fill if you typed too quickly, \"beeped\" if it was full!"
   ]
  },
  {
   "cell_type": "markdown",
   "metadata": {},
   "source": [
    "## Device Example: Mouse"
   ]
  },
  {
   "cell_type": "markdown",
   "metadata": {},
   "source": [
    "Mouse only indicates changes in position not absolute position (`delta_x` and `delta_y`)"
   ]
  },
  {
   "cell_type": "markdown",
   "metadata": {},
   "source": [
    "## I/O Software Layer Principals"
   ]
  },
  {
   "cell_type": "markdown",
   "metadata": {},
   "source": [
    "Interrupts are facts of live, but should be hidden away, so that as little of the OS as possible knows about them.  The best way to hide interrupts is to have the driver starting an IO operation block until IO has completed and the interrupt occurs.  When interrupt happens, the interrupt handler handles the interrupt.  Once the handling of interrupt is done, the interrupt handler unblocks the device driver that started it.  This model works if drivers Re structured as kernel [rpcesses with their own states, stacks, and program counters."
   ]
  }
 ],
 "metadata": {
  "kernelspec": {
   "display_name": "Python 2",
   "language": "python",
   "name": "python2"
  },
  "language_info": {
   "codemirror_mode": {
    "name": "ipython",
    "version": 2
   },
   "file_extension": ".py",
   "mimetype": "text/x-python",
   "name": "python",
   "nbconvert_exporter": "python",
   "pygments_lexer": "ipython2",
   "version": "2.7.13"
  }
 },
 "nbformat": 4,
 "nbformat_minor": 2
}

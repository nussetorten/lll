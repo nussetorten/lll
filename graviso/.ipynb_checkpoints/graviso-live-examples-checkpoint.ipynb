{
 "cells": [
  {
   "cell_type": "markdown",
   "metadata": {},
   "source": [
    "![Alt text](https://g.gravizo.com/svg?\n",
    "@startuml;\n",
    "%28*%29 --> if \"Some Test\" then;\n",
    "  -->[true] \"activity 1\";\n",
    "  if \"\" then;\n",
    "    -> \"activity 3\" as a3;\n",
    "  else;\n",
    "    if \"Other test\" then;\n",
    "      -left-> \"activity 5\";\n",
    "    else;\n",
    "      --> \"activity 6\";\n",
    "    endif;\n",
    "  endif;\n",
    "else;\n",
    "  ->[false] \"activity 2\";\n",
    "endif;\n",
    "a3 --> if \"last test\" then;\n",
    "  --> \"activity 7\";\n",
    "else;\n",
    "  -> \"activity 8\";\n",
    "endif;\n",
    "@enduml\n",
    ")"
   ]
  },
  {
   "cell_type": "markdown",
   "metadata": {},
   "source": [
    "![Alt text](https://g.gravizo.com/svg?\n",
    "@startuml;\n",
    "actor User;\n",
    "participant \"First Class\" as A;\n",
    "participant \"Second Class\" as B;\n",
    "participant \"Last Class\" as C;\n",
    "User -> A: DoWork;\n",
    "activate A;\n",
    "A -> B: Create Request;\n",
    "activate B;\n",
    "B -> C: DoWork;\n",
    "activate C;\n",
    "C -> B: WorkDone;\n",
    "destroy C;\n",
    "B -> A: Request Created;\n",
    "deactivate B;\n",
    "A -> User: Done;\n",
    "deactivate A;\n",
    "@enduml\n",
    ")"
   ]
  },
  {
   "cell_type": "markdown",
   "metadata": {},
   "source": [
    "![Alt text](https://g.gravizo.com/svg?\n",
    "  digraph G {\n",
    "    aize =\"4,4\";\n",
    "    main [shape=box];\n",
    "    main -> parse [weight=8];\n",
    "    parse -> execute;\n",
    "    main -> init [style=dotted];\n",
    "    main -> cleanup;\n",
    "    execute -> { make_string; printf};\n",
    "    init -> make_string;\n",
    "    edge [color=red];\n",
    "    main -> printf [style=bold,label=\"100 times\"];\n",
    "    make_string [label=\"make a string\"];\n",
    "    node [shape=box,style=filled,color=\".7 .3 1.0\"];\n",
    "    execute -> compare;\n",
    "  }\n",
    ")"
   ]
  },
  {
   "cell_type": "code",
   "execution_count": null,
   "metadata": {
    "collapsed": true
   },
   "outputs": [],
   "source": []
  }
 ],
 "metadata": {
  "kernelspec": {
   "display_name": "Python 2",
   "language": "python",
   "name": "python2"
  },
  "language_info": {
   "codemirror_mode": {
    "name": "ipython",
    "version": 2
   },
   "file_extension": ".py",
   "mimetype": "text/x-python",
   "name": "python",
   "nbconvert_exporter": "python",
   "pygments_lexer": "ipython2",
   "version": "2.7.13"
  }
 },
 "nbformat": 4,
 "nbformat_minor": 2
}
